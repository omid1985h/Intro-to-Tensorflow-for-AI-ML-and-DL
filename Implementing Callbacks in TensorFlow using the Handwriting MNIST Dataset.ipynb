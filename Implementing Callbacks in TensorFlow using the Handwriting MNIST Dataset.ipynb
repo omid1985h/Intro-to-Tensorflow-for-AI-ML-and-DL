{
 "cells": [
  {
   "cell_type": "code",
   "execution_count": 7,
   "id": "a1d6f11c",
   "metadata": {},
   "outputs": [],
   "source": [
    "# Import \n",
    "\n",
    "import os\n",
    "import base64\n",
    "import tensorflow as tf\n",
    "import unittest"
   ]
  },
  {
   "cell_type": "markdown",
   "id": "b88dfe6a",
   "metadata": {},
   "source": [
    "* The file mnist.npz is already included in the current workspace under the data directory. By default the load_data from Keras accepts a path relative to ~/.keras/datasets but in this case it is stored somewhere else, as a result of this, you need to specify the full path.\n",
    "* tf.keras.datasets.mnist.load_data returns the train and test sets in the form of the tuples (training_images, training_labels), (testing_images, testing_labels) but in this exercise you will be needing only the train set so you can ignore the second tuple."
   ]
  },
  {
   "cell_type": "code",
   "execution_count": 8,
   "id": "3b4011c7",
   "metadata": {},
   "outputs": [
    {
     "name": "stdout",
     "output_type": "stream",
     "text": [
      "training_images is of type <class 'numpy.ndarray'>.\n",
      "training_labels is of type <class 'numpy.ndarray'>\n",
      "\n",
      "There are 60000 examples with shape (28, 28)\n"
     ]
    }
   ],
   "source": [
    "# load data\n",
    "\n",
    "# Get current working directory\n",
    "current_dir = os.getcwd()\n",
    "\n",
    "# Append data/mnist.npz to the previous path to get the full path\n",
    "data_path = \"/Users/ohajati/Desktop/mnist.npz\"\n",
    "\n",
    "# Load data (discard test set)\n",
    "(training_images, training_labels), _ = tf.keras.datasets.mnist.load_data(path=data_path)\n",
    "\n",
    "print(f\"training_images is of type {type(training_images)}.\\ntraining_labels is of type {type(training_labels)}\\n\")\n",
    "\n",
    "# Inspect shape of the data\n",
    "data_shape = training_images.shape\n",
    "\n",
    "print(f\"There are {data_shape[0]} examples with shape ({data_shape[1]}, {data_shape[2]})\")"
   ]
  },
  {
   "cell_type": "markdown",
   "id": "860ee69d",
   "metadata": {},
   "source": [
    "* One important step is to normalize the pixel values. The dataset includes black and white images and the pixel values for these kinds of images usually range from 0 to 255 but the network will have an easier time learning if these values range from 0 to 1.\n",
    "\n",
    "* The data comes as numpy arrays so you can easily normalize the pixel values by using vectorization:"
   ]
  },
  {
   "cell_type": "code",
   "execution_count": 9,
   "id": "6e842711",
   "metadata": {},
   "outputs": [],
   "source": [
    "# Normalize pixel values\n",
    "training_images = training_images / 255.0"
   ]
  },
  {
   "cell_type": "code",
   "execution_count": 10,
   "id": "549103ed",
   "metadata": {},
   "outputs": [],
   "source": [
    "# GRADED FUNCTION: create_and_compile_model\n",
    "\n",
    "def create_and_compile_model():\n",
    "    \"\"\"Returns the compiled (but untrained) model.\n",
    "\n",
    "    Returns:\n",
    "        tf.keras.Model: The model that will be trained to predict predict handwriting digits.\n",
    "    \"\"\"\n",
    "\n",
    "    import tensorflow as tf\n",
    "    from tensorflow.keras.layers import Flatten, Dense\n",
    "        \n",
    "    # Define the model\n",
    "    model = tf.keras.models.Sequential([\n",
    "        tf.keras.Input(shape=(28, 28)),\n",
    "        Flatten(),\n",
    "        Dense(128, activation='relu'),\n",
    "        Dense(10, activation='softmax')\n",
    "    ]) \n",
    "\n",
    "    \n",
    "    # Compile the model\n",
    "    model.compile(\n",
    "        optimizer='adam',\n",
    "        loss='sparse_categorical_crossentropy',\n",
    "        metrics=['accuracy']\n",
    "    )\n",
    "\n",
    "    return model\n"
   ]
  },
  {
   "cell_type": "code",
   "execution_count": 13,
   "id": "121e9970",
   "metadata": {},
   "outputs": [
    {
     "name": "stdout",
     "output_type": "stream",
     "text": [
      "predictions have shape: (5, 10)\n"
     ]
    },
    {
     "name": "stderr",
     "output_type": "stream",
     "text": [
      "2024-11-11 15:48:30.998782: W tensorflow/tsl/platform/profile_utils/cpu_utils.cc:128] Failed to get CPU frequency: 0 Hz\n"
     ]
    }
   ],
   "source": [
    "# Use it to predict the first 5 images in the train set\n",
    "predictions = untrained_model.predict(training_images[:5], verbose=False)\n",
    "\n",
    "print(f\"predictions have shape: {predictions.shape}\")"
   ]
  },
  {
   "cell_type": "markdown",
   "id": "cf59f2a4",
   "metadata": {},
   "source": [
    "### Exercise 2: EarlyStoppingCallback"
   ]
  },
  {
   "cell_type": "code",
   "execution_count": 15,
   "id": "afeb7a28",
   "metadata": {},
   "outputs": [],
   "source": [
    "# GRADED CLASS: EarlyStoppingCallback\n",
    "\n",
    "class EarlyStoppingCallback(tf.keras.callbacks.Callback):\n",
    "\n",
    "    # Define the correct function signature for on_epoch_end method\n",
    "    def on_epoch_end(self, epoch, logs=None):\n",
    "        \n",
    "        # Check if the accuracy is greater or equal to 0.98\n",
    "        if logs.get('accuracy') >= 0.98:\n",
    "                            \n",
    "            # Stop training once the above condition is met\n",
    "            self.model.stop_training = True\n",
    "\n",
    "            print(\"\\nReached 98% accuracy so cancelling training!\") "
   ]
  },
  {
   "cell_type": "code",
   "execution_count": 16,
   "id": "e0bfe3d4",
   "metadata": {},
   "outputs": [],
   "source": [
    "# GRADED FUNCTION: train_mnist\n",
    "\n",
    "def train_mnist(training_images, training_labels):\n",
    "    \"\"\"Trains a classifier of handwritten digits.\n",
    "\n",
    "    Args:\n",
    "        training_images (numpy.ndarray): The images of handwritten digits\n",
    "        training_labels (numpy.ndarray): The labels of each image\n",
    "\n",
    "    Returns:\n",
    "        tf.keras.callbacks.History : The training history.\n",
    "    \"\"\"\n",
    "\n",
    "    ### START CODE HERE ###\n",
    "\n",
    "    # Create a compiled (but untrained) version of the model\n",
    "    # Hint: Remember you already coded a function that does this!\n",
    "    model = create_and_compile_model()\n",
    "    early_stopping_callback = EarlyStoppingCallback() \n",
    "    \n",
    "    # Fit the model for 10 epochs adding the callbacks and save the training history\n",
    "    history = model.fit(training_images, training_labels, epochs=10, callbacks=[early_stopping_callback])\n",
    "\n",
    "    ### END CODE HERE ###\n",
    "\n",
    "    return history"
   ]
  },
  {
   "cell_type": "code",
   "execution_count": 17,
   "id": "83f6ca15",
   "metadata": {},
   "outputs": [
    {
     "name": "stdout",
     "output_type": "stream",
     "text": [
      "Epoch 1/10\n",
      "1875/1875 [==============================] - 1s 458us/step - loss: 0.2532 - accuracy: 0.9275\n",
      "Epoch 2/10\n",
      "1875/1875 [==============================] - 1s 459us/step - loss: 0.1127 - accuracy: 0.9658\n",
      "Epoch 3/10\n",
      "1875/1875 [==============================] - 1s 461us/step - loss: 0.0763 - accuracy: 0.9768\n",
      "Epoch 4/10\n",
      "1850/1875 [============================>.] - ETA: 0s - loss: 0.0568 - accuracy: 0.9826\n",
      "Reached 98% accuracy so cancelling training!\n",
      "1875/1875 [==============================] - 1s 436us/step - loss: 0.0567 - accuracy: 0.9826\n"
     ]
    }
   ],
   "source": [
    "training_history = train_mnist(training_images, training_labels)"
   ]
  },
  {
   "cell_type": "code",
   "execution_count": null,
   "id": "8f698f87",
   "metadata": {},
   "outputs": [],
   "source": []
  }
 ],
 "metadata": {
  "kernelspec": {
   "display_name": "Python 3 (ipykernel)",
   "language": "python",
   "name": "python3"
  },
  "language_info": {
   "codemirror_mode": {
    "name": "ipython",
    "version": 3
   },
   "file_extension": ".py",
   "mimetype": "text/x-python",
   "name": "python",
   "nbconvert_exporter": "python",
   "pygments_lexer": "ipython3",
   "version": "3.11.5"
  }
 },
 "nbformat": 4,
 "nbformat_minor": 5
}
