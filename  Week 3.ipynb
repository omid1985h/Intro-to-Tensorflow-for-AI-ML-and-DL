{
 "cells": [
  {
   "cell_type": "markdown",
   "id": "9cfdb14c",
   "metadata": {},
   "source": [
    "# Implementing convolutional layers\n",
    "\n",
    "### Improving the Fashion classifier with convolutions"
   ]
  },
  {
   "cell_type": "code",
   "execution_count": 1,
   "id": "ccb784e6",
   "metadata": {},
   "outputs": [
    {
     "name": "stdout",
     "output_type": "stream",
     "text": [
      "Model: \"sequential\"\n",
      "_________________________________________________________________\n",
      " Layer (type)                Output Shape              Param #   \n",
      "=================================================================\n",
      " conv2d (Conv2D)             (None, 26, 26, 32)        320       \n",
      "                                                                 \n",
      " max_pooling2d (MaxPooling2D  (None, 13, 13, 32)       0         \n",
      " )                                                               \n",
      "                                                                 \n",
      " conv2d_1 (Conv2D)           (None, 11, 11, 64)        18496     \n",
      "                                                                 \n",
      " max_pooling2d_1 (MaxPooling  (None, 5, 5, 64)         0         \n",
      " 2D)                                                             \n",
      "                                                                 \n",
      " flatten (Flatten)           (None, 1600)              0         \n",
      "                                                                 \n",
      " dense (Dense)               (None, 128)               204928    \n",
      "                                                                 \n",
      " dense_1 (Dense)             (None, 10)                1290      \n",
      "                                                                 \n",
      "=================================================================\n",
      "Total params: 225,034\n",
      "Trainable params: 225,034\n",
      "Non-trainable params: 0\n",
      "_________________________________________________________________\n",
      "Epoch 1/5\n",
      "  1/938 [..............................] - ETA: 2:29 - loss: 2.3024 - accuracy: 0.1250"
     ]
    },
    {
     "name": "stderr",
     "output_type": "stream",
     "text": [
      "2024-11-12 11:50:57.816286: W tensorflow/tsl/platform/profile_utils/cpu_utils.cc:128] Failed to get CPU frequency: 0 Hz\n"
     ]
    },
    {
     "name": "stdout",
     "output_type": "stream",
     "text": [
      "938/938 [==============================] - 8s 9ms/step - loss: 0.4762 - accuracy: 0.8278 - val_loss: 0.3792 - val_accuracy: 0.8567\n",
      "Epoch 2/5\n",
      "938/938 [==============================] - 8s 8ms/step - loss: 0.3131 - accuracy: 0.8846 - val_loss: 0.3057 - val_accuracy: 0.8895\n",
      "Epoch 3/5\n",
      "938/938 [==============================] - 8s 9ms/step - loss: 0.2671 - accuracy: 0.9008 - val_loss: 0.3202 - val_accuracy: 0.8851\n",
      "Epoch 4/5\n",
      "938/938 [==============================] - 8s 9ms/step - loss: 0.2383 - accuracy: 0.9117 - val_loss: 0.2861 - val_accuracy: 0.8918\n",
      "Epoch 5/5\n",
      "938/938 [==============================] - 8s 9ms/step - loss: 0.2160 - accuracy: 0.9200 - val_loss: 0.2548 - val_accuracy: 0.9103\n",
      "313/313 - 1s - loss: 0.2548 - accuracy: 0.9103 - 537ms/epoch - 2ms/step\n",
      "Test accuracy: 0.9103000164031982\n"
     ]
    }
   ],
   "source": [
    "import tensorflow as tf\n",
    "from tensorflow.keras import layers, models\n",
    "from tensorflow.keras.datasets import fashion_mnist\n",
    "from tensorflow.keras.utils import to_categorical\n",
    "\n",
    "# 1. Load the Fashion MNIST dataset\n",
    "(x_train, y_train), (x_test, y_test) = fashion_mnist.load_data()\n",
    "\n",
    "# 2. Preprocess the data\n",
    "# Reshaping data to add a channel dimension (1 channel for grayscale images)\n",
    "x_train = x_train.reshape((x_train.shape[0], 28, 28, 1))\n",
    "x_test = x_test.reshape((x_test.shape[0], 28, 28, 1))\n",
    "\n",
    "# Normalize pixel values to be between 0 and 1\n",
    "x_train, x_test = x_train / 255.0, x_test / 255.0\n",
    "\n",
    "# One-hot encode the labels (to categorical format)\n",
    "y_train = to_categorical(y_train, 10)\n",
    "y_test = to_categorical(y_test, 10)\n",
    "\n",
    "# 3. Build the CNN model\n",
    "model = models.Sequential()\n",
    "\n",
    "# Convolutional Layer 1: 32 filters, 3x3 kernel, 'relu' activation\n",
    "model.add(layers.Conv2D(32, (3, 3), activation='relu', input_shape=(28, 28, 1)))\n",
    "\n",
    "# Pooling Layer 1: 2x2 max pooling\n",
    "model.add(layers.MaxPooling2D((2, 2)))\n",
    "\n",
    "# Convolutional Layer 2: 64 filters, 3x3 kernel, 'relu' activation\n",
    "model.add(layers.Conv2D(64, (3, 3), activation='relu'))\n",
    "\n",
    "# Pooling Layer 2: 2x2 max pooling\n",
    "model.add(layers.MaxPooling2D((2, 2)))\n",
    "\n",
    "# Flatten the feature maps to a 1D vector (to feed into fully connected layers)\n",
    "model.add(layers.Flatten())\n",
    "\n",
    "# Fully connected (dense) layer with 128 neurons and 'relu' activation\n",
    "model.add(layers.Dense(128, activation='relu'))\n",
    "\n",
    "# Output layer: 10 neurons (one for each class) with softmax activation\n",
    "model.add(layers.Dense(10, activation='softmax'))\n",
    "\n",
    "# 4. Compile the model\n",
    "model.compile(optimizer='adam', loss='categorical_crossentropy', metrics=['accuracy'])\n",
    "\n",
    "# 5. Print the model summary\n",
    "model.summary()\n",
    "\n",
    "# 6. Train the model\n",
    "model.fit(x_train, y_train, epochs=5, batch_size=64, validation_data=(x_test, y_test))\n",
    "\n",
    "# 7. Evaluate the model\n",
    "test_loss, test_acc = model.evaluate(x_test, y_test, verbose=2)\n",
    "print(f\"Test accuracy: {test_acc}\")\n"
   ]
  },
  {
   "cell_type": "markdown",
   "id": "a1419092",
   "metadata": {},
   "source": [
    "* 1. Loading the Data\n",
    "* fashion_mnist.load_data(): This loads the Fashion MNIST dataset, which contains 60,000 training images and 10,000 test images of 28x28 grayscale clothing images, along with their corresponding labels (10 classes).\n",
    "\n",
    "* 2. Preprocessing the Data\n",
    "* Reshaping: Fashion MNIST images are 28x28 grayscale images. We reshape the data to add a channel dimension (for grayscale images, this is 1 channel) because CNNs expect inputs of shape (height, width, channels).\n",
    "* Normalization: The pixel values of the images are scaled from the range [0, 255] to [0, 1] by dividing by 255. This helps improve training performance.\n",
    "* One-Hot Encoding: The labels (y_train and y_test) are one-hot encoded because we are performing multi-class classification. The dataset has 10 classes, so the labels are converted to vectors of length 10 with a 1 in the index corresponding to the correct class.\n",
    "\n",
    "* 3. Building the CNN Model\n",
    "* model = models.Sequential()\n",
    "* Sequential(): We initialize a sequential model, which means the layers will be added one after another.\n",
    "* First Convolutional Layer: Conv2D(32, (3, 3)): Adds a 2D convolutional layer with 32 filters, each of size 3x3.\n",
    "* activation='relu': Applies the ReLU (Rectified Linear Unit) activation function, which is commonly used in CNNs for non-linearity.\n",
    "* input_shape=(28, 28, 1): Specifies the shape of the input data (28x28 grayscale images).\n",
    "* First Pooling Layer: MaxPooling2D((2, 2)): Adds a max pooling layer with a 2x2 window. Max pooling helps downsample the feature map by selecting the maximum value from each 2x2 region.\n",
    "* Second Convolutional Layer: Conv2D(64, (3, 3)): Adds another convolutional layer, but this time with 64 filters of size 3x3. More filters allow the model to learn more complex features.\n",
    "* Second Pooling Layer: Another 2x2 max pooling layer that reduces the size of the feature map further.\n",
    "* Flatten Layer: Flattens the 2D feature map into a 1D vector. This is required before passing the data to the fully connected layers (dense layers).\n",
    "* Fully Connected (Dense) Layer: Dense(128): Adds a fully connected layer with 128 neurons.\n",
    "* Output Layer: Dense(10): Adds the output layer with 10 neurons, corresponding to the 10 classes in the Fashion MNIST dataset. activation='softmax': Uses the softmax activation function, which converts the outputs into probabilities (i.e., values between 0 and 1 that sum to 1).\n",
    "\n",
    "* 4. Compiling the Model\n",
    "\n",
    "* 5. Model Summary: model.summary() summary(): Prints a summary of the model, including the number of parameters in each layer and the overall architecture.\n",
    "\n",
    "* 6. Training the Model\n",
    "\n",
    "7. Evaluating the Model\n",
    "* verbose=2: Controls the verbosity of the output (2 gives a less detailed output)."
   ]
  },
  {
   "cell_type": "markdown",
   "id": "e1fd0bde",
   "metadata": {},
   "source": [
    "## Pooling "
   ]
  },
  {
   "cell_type": "markdown",
   "id": "960e8d3f",
   "metadata": {},
   "source": [
    "* Pooling is a downsampling operation used in CNNs to reduce the spatial dimensions (height and width) of feature maps.\n",
    "\n",
    "* The most common pooling operation is max pooling, where a window (e.g., 2x2) slides over the image, and the maximum value within the window is selected.\n",
    "\n",
    "* Stride determines how far the window moves. For a 2x2 window with stride 2, the image is reduced by half in both height and width.\n",
    "\n",
    "* 2. Edge Pixels and Pooling: Edge pixels (at the border of the image) may not have a full neighborhood (i.e., a full 2x2 window) to pool over.\n",
    "* In valid padding (no padding), these edge pixels are excluded from the pooling operation because the pooling window cannot fit fully at the borders.\n",
    "* As a result, the image size is reduced by less than expected at the edges (e.g., a 28x28 image becomes 14x14 after 2x2 pooling).\n",
    "\n",
    "* 3. Padding Options:\n",
    "* Valid Padding: No extra pixels are added around the image, so pooling only happens in areas where the pooling window fully fits. This can lead to smaller output sizes (e.g., 28x28 -> 14x14).\n",
    "* Same Padding: Extra pixels (often zeros) are added to the edges to make sure every pixel, including edge pixels, can be pooled. This ensures the pooling window always has a full neighborhood to operate on.\n",
    "\n",
    "* 4. Example:\n",
    "* 2x2 Max Pooling on a 5x5 image with stride 2 will reduce the image to 2x2, excluding the last row and column if using valid padding (no padding).\n",
    "* Key Takeaway: Pooling reduces the image size by downsampling, and edge pixels may be excluded if there’s no padding (valid padding). Padding techniques can be used to handle edge pixels, ensuring the pooling window always fits fully."
   ]
  },
  {
   "cell_type": "code",
   "execution_count": 8,
   "id": "1a93ecc5",
   "metadata": {},
   "outputs": [
    {
     "name": "stdout",
     "output_type": "stream",
     "text": [
      "WARNING:tensorflow:5 out of the last 5 calls to <function Model.make_predict_function.<locals>.predict_function at 0x14f5859e0> triggered tf.function retracing. Tracing is expensive and the excessive number of tracings could be due to (1) creating @tf.function repeatedly in a loop, (2) passing tensors with different shapes, (3) passing Python objects instead of tensors. For (1), please define your @tf.function outside of the loop. For (2), @tf.function has reduce_retracing=True option that can avoid unnecessary retracing. For (3), please refer to https://www.tensorflow.org/guide/function#controlling_retracing and https://www.tensorflow.org/api_docs/python/tf/function for  more details.\n"
     ]
    },
    {
     "data": {
      "image/png": "[encoded data removed]",
      "text/plain": [
       "<Figure size 1500x1000 with 12 Axes>"
      ]
     },
     "metadata": {},
     "output_type": "display_data"
    }
   ],
   "source": [
    "import tensorflow as tf\n",
    "import matplotlib.pyplot as plt\n",
    "import numpy as np\n",
    "\n",
    "# Define the image indices you want to visualize\n",
    "First_image = 0\n",
    "Second_image = 23\n",
    "Third_image = 28\n",
    "\n",
    "# Define the convolution number (index of the filter you want to visualize)\n",
    "Convolution_number = 1\n",
    "\n",
    "# Specify the layers you want to visualize\n",
    "layers_to_visualize = [tf.keras.layers.Conv2D, tf.keras.layers.MaxPooling2D]\n",
    "\n",
    "# Get the layer outputs for the specified layers\n",
    "layer_outputs = [layer.output for layer in model.layers if isinstance(layer, tuple(layers_to_visualize))]\n",
    "\n",
    "# Create a new model that outputs the activations of these layers\n",
    "activation_model = tf.keras.models.Model(inputs=model.inputs, outputs=layer_outputs)\n",
    "\n",
    "# Prepare a figure for visualization\n",
    "f, axarr = plt.subplots(3, len(layer_outputs), figsize=(15, 10))\n",
    "\n",
    "# Process the images and display the activations\n",
    "for x in range(len(layer_outputs)):\n",
    "    # Get activations for the three selected images\n",
    "    f1 = activation_model.predict(x_test[First_image].reshape(1, 28, 28, 1), verbose=False)[x]\n",
    "    f2 = activation_model.predict(x_test[Second_image].reshape(1, 28, 28, 1), verbose=False)[x]\n",
    "    f3 = activation_model.predict(x_test[Third_image].reshape(1, 28, 28, 1), verbose=False)[x]\n",
    "\n",
    "    # Plot the activations for each image and layer\n",
    "    axarr[0, x].imshow(f1[0, :, :, Convolution_number], cmap='inferno')\n",
    "    axarr[0, x].set_title(f\"Image {First_image}, Layer {x + 1}\")\n",
    "    axarr[0, x].axis('off')\n",
    "\n",
    "    axarr[1, x].imshow(f2[0, :, :, Convolution_number], cmap='inferno')\n",
    "    axarr[1, x].set_title(f\"Image {Second_image}, Layer {x + 1}\")\n",
    "    axarr[1, x].axis('off')\n",
    "\n",
    "    axarr[2, x].imshow(f3[0, :, :, Convolution_number], cmap='inferno')\n",
    "    axarr[2, x].set_title(f\"Image {Third_image}, Layer {x + 1}\")\n",
    "    axarr[2, x].axis('off')\n",
    "\n",
    "# Adjust layout and display\n",
    "plt.tight_layout()\n",
    "plt.show()\n"
   ]
  },
  {
   "cell_type": "code",
   "execution_count": null,
   "id": "38e9c719",
   "metadata": {},
   "outputs": [],
   "source": []
  }
 ],
 "metadata": {
  "kernelspec": {
   "display_name": "Python 3 (ipykernel)",
   "language": "python",
   "name": "python3"
  },
  "language_info": {
   "codemirror_mode": {
    "name": "ipython",
    "version": 3
   },
   "file_extension": ".py",
   "mimetype": "text/x-python",
   "name": "python",
   "nbconvert_exporter": "python",
   "pygments_lexer": "ipython3",
   "version": "3.11.5"
  }
 },
 "nbformat": 4,
 "nbformat_minor": 5
}
